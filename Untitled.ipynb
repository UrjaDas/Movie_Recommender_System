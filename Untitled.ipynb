{
 "cells": [
  {
   "cell_type": "markdown",
   "id": "19ef2ded",
   "metadata": {},
   "source": [
    "## Import Libraries"
   ]
  },
  {
   "cell_type": "code",
   "execution_count": 36,
   "id": "ab1c4efa",
   "metadata": {},
   "outputs": [],
   "source": [
    "import numpy as np\n",
    "import pandas as pd\n",
    "import matplotlib.pyplot as plt\n",
    "import seaborn as sns\n",
    "%matplotlib inline"
   ]
  },
  {
   "cell_type": "code",
   "execution_count": 37,
   "id": "c4d0b151",
   "metadata": {},
   "outputs": [],
   "source": [
    "import tensorflow as tf\n",
    "from tensorflow.keras.layers import Input, Dense, Embedding, Flatten, Concatenate\n",
    "from tensorflow.keras.models import Model\n",
    "from tensorflow.keras.optimizers import SGD, Adam"
   ]
  },
  {
   "cell_type": "code",
   "execution_count": 38,
   "id": "399d85d4",
   "metadata": {},
   "outputs": [],
   "source": [
    "from sklearn.utils import shuffle"
   ]
  },
  {
   "cell_type": "markdown",
   "id": "c7ae1a8e",
   "metadata": {},
   "source": [
    "## Load the Dataset"
   ]
  },
  {
   "cell_type": "code",
   "execution_count": 39,
   "id": "8316e2a9",
   "metadata": {},
   "outputs": [],
   "source": [
    "ratings = pd.read_csv('ratings.csv')"
   ]
  },
  {
   "cell_type": "code",
   "execution_count": 40,
   "id": "10e9af85",
   "metadata": {},
   "outputs": [
    {
     "data": {
      "text/html": [
       "<div>\n",
       "<style scoped>\n",
       "    .dataframe tbody tr th:only-of-type {\n",
       "        vertical-align: middle;\n",
       "    }\n",
       "\n",
       "    .dataframe tbody tr th {\n",
       "        vertical-align: top;\n",
       "    }\n",
       "\n",
       "    .dataframe thead th {\n",
       "        text-align: right;\n",
       "    }\n",
       "</style>\n",
       "<table border=\"1\" class=\"dataframe\">\n",
       "  <thead>\n",
       "    <tr style=\"text-align: right;\">\n",
       "      <th></th>\n",
       "      <th>userId</th>\n",
       "      <th>movieId</th>\n",
       "      <th>rating</th>\n",
       "      <th>timestamp</th>\n",
       "    </tr>\n",
       "  </thead>\n",
       "  <tbody>\n",
       "    <tr>\n",
       "      <th>0</th>\n",
       "      <td>1</td>\n",
       "      <td>296</td>\n",
       "      <td>5.0</td>\n",
       "      <td>1147880044</td>\n",
       "    </tr>\n",
       "    <tr>\n",
       "      <th>1</th>\n",
       "      <td>1</td>\n",
       "      <td>306</td>\n",
       "      <td>3.5</td>\n",
       "      <td>1147868817</td>\n",
       "    </tr>\n",
       "    <tr>\n",
       "      <th>2</th>\n",
       "      <td>1</td>\n",
       "      <td>307</td>\n",
       "      <td>5.0</td>\n",
       "      <td>1147868828</td>\n",
       "    </tr>\n",
       "    <tr>\n",
       "      <th>3</th>\n",
       "      <td>1</td>\n",
       "      <td>665</td>\n",
       "      <td>5.0</td>\n",
       "      <td>1147878820</td>\n",
       "    </tr>\n",
       "    <tr>\n",
       "      <th>4</th>\n",
       "      <td>1</td>\n",
       "      <td>899</td>\n",
       "      <td>3.5</td>\n",
       "      <td>1147868510</td>\n",
       "    </tr>\n",
       "  </tbody>\n",
       "</table>\n",
       "</div>"
      ],
      "text/plain": [
       "   userId  movieId  rating   timestamp\n",
       "0       1      296     5.0  1147880044\n",
       "1       1      306     3.5  1147868817\n",
       "2       1      307     5.0  1147868828\n",
       "3       1      665     5.0  1147878820\n",
       "4       1      899     3.5  1147868510"
      ]
     },
     "execution_count": 40,
     "metadata": {},
     "output_type": "execute_result"
    }
   ],
   "source": [
    "ratings.head()"
   ]
  },
  {
   "cell_type": "code",
   "execution_count": 41,
   "id": "9c24166b",
   "metadata": {},
   "outputs": [
    {
     "data": {
      "text/plain": [
       "(25000095, 4)"
      ]
     },
     "execution_count": 41,
     "metadata": {},
     "output_type": "execute_result"
    }
   ],
   "source": [
    "ratings.shape"
   ]
  },
  {
   "cell_type": "code",
   "execution_count": 42,
   "id": "e406cd23",
   "metadata": {},
   "outputs": [],
   "source": [
    "ratings= ratings.drop(['timestamp'], axis=1)"
   ]
  },
  {
   "cell_type": "code",
   "execution_count": 43,
   "id": "5677ea22",
   "metadata": {},
   "outputs": [
    {
     "data": {
      "text/html": [
       "<div>\n",
       "<style scoped>\n",
       "    .dataframe tbody tr th:only-of-type {\n",
       "        vertical-align: middle;\n",
       "    }\n",
       "\n",
       "    .dataframe tbody tr th {\n",
       "        vertical-align: top;\n",
       "    }\n",
       "\n",
       "    .dataframe thead th {\n",
       "        text-align: right;\n",
       "    }\n",
       "</style>\n",
       "<table border=\"1\" class=\"dataframe\">\n",
       "  <thead>\n",
       "    <tr style=\"text-align: right;\">\n",
       "      <th></th>\n",
       "      <th>userId</th>\n",
       "      <th>movieId</th>\n",
       "      <th>rating</th>\n",
       "    </tr>\n",
       "  </thead>\n",
       "  <tbody>\n",
       "    <tr>\n",
       "      <th>0</th>\n",
       "      <td>1</td>\n",
       "      <td>296</td>\n",
       "      <td>5.0</td>\n",
       "    </tr>\n",
       "    <tr>\n",
       "      <th>1</th>\n",
       "      <td>1</td>\n",
       "      <td>306</td>\n",
       "      <td>3.5</td>\n",
       "    </tr>\n",
       "    <tr>\n",
       "      <th>2</th>\n",
       "      <td>1</td>\n",
       "      <td>307</td>\n",
       "      <td>5.0</td>\n",
       "    </tr>\n",
       "    <tr>\n",
       "      <th>3</th>\n",
       "      <td>1</td>\n",
       "      <td>665</td>\n",
       "      <td>5.0</td>\n",
       "    </tr>\n",
       "    <tr>\n",
       "      <th>4</th>\n",
       "      <td>1</td>\n",
       "      <td>899</td>\n",
       "      <td>3.5</td>\n",
       "    </tr>\n",
       "  </tbody>\n",
       "</table>\n",
       "</div>"
      ],
      "text/plain": [
       "   userId  movieId  rating\n",
       "0       1      296     5.0\n",
       "1       1      306     3.5\n",
       "2       1      307     5.0\n",
       "3       1      665     5.0\n",
       "4       1      899     3.5"
      ]
     },
     "execution_count": 43,
     "metadata": {},
     "output_type": "execute_result"
    }
   ],
   "source": [
    "ratings.head()"
   ]
  },
  {
   "cell_type": "markdown",
   "id": "777bd993",
   "metadata": {},
   "source": [
    "userId and movieId both should have values lying from (0 to n-1) and (0 to m-1) if there are n users and m movies. "
   ]
  },
  {
   "cell_type": "code",
   "execution_count": 44,
   "id": "9c765a8c",
   "metadata": {},
   "outputs": [],
   "source": [
    "current_user=0\n",
    "custom_user_map={}\n",
    "def map_userID(row):\n",
    "    global current_user, custom_user_map\n",
    "    old_user_id = row['userId']\n",
    "    if old_user_id not in custom_user_map:\n",
    "        custom_user_map[old_user_id] = current_user\n",
    "        current_user+=1\n",
    "    return custom_user_map[old_user_id]\n",
    "\n",
    "ratings['new_userId']= ratings.apply(map_userID, axis=1)"
   ]
  },
  {
   "cell_type": "code",
   "execution_count": 45,
   "id": "cf5886ec",
   "metadata": {},
   "outputs": [],
   "source": [
    "current_movie=0\n",
    "custom_movie_map={}\n",
    "def map_movie(row):\n",
    "    global current_movie, custom_movie_map\n",
    "    old_movie_id = row['movieId']\n",
    "    if old_movie_id not in custom_movie_map:\n",
    "        custom_movie_map[old_movie_id] = current_movie\n",
    "        current_movie+=1\n",
    "    return custom_movie_map[old_movie_id]\n",
    "\n",
    "ratings['new_movieId']= ratings.apply(map_movie, axis=1)"
   ]
  },
  {
   "cell_type": "code",
   "execution_count": 46,
   "id": "ccb39fa3",
   "metadata": {},
   "outputs": [
    {
     "data": {
      "text/html": [
       "<div>\n",
       "<style scoped>\n",
       "    .dataframe tbody tr th:only-of-type {\n",
       "        vertical-align: middle;\n",
       "    }\n",
       "\n",
       "    .dataframe tbody tr th {\n",
       "        vertical-align: top;\n",
       "    }\n",
       "\n",
       "    .dataframe thead th {\n",
       "        text-align: right;\n",
       "    }\n",
       "</style>\n",
       "<table border=\"1\" class=\"dataframe\">\n",
       "  <thead>\n",
       "    <tr style=\"text-align: right;\">\n",
       "      <th></th>\n",
       "      <th>userId</th>\n",
       "      <th>movieId</th>\n",
       "      <th>rating</th>\n",
       "      <th>new_userId</th>\n",
       "      <th>new_movieId</th>\n",
       "    </tr>\n",
       "  </thead>\n",
       "  <tbody>\n",
       "    <tr>\n",
       "      <th>0</th>\n",
       "      <td>1</td>\n",
       "      <td>296</td>\n",
       "      <td>5.0</td>\n",
       "      <td>0</td>\n",
       "      <td>0</td>\n",
       "    </tr>\n",
       "    <tr>\n",
       "      <th>1</th>\n",
       "      <td>1</td>\n",
       "      <td>306</td>\n",
       "      <td>3.5</td>\n",
       "      <td>0</td>\n",
       "      <td>1</td>\n",
       "    </tr>\n",
       "    <tr>\n",
       "      <th>2</th>\n",
       "      <td>1</td>\n",
       "      <td>307</td>\n",
       "      <td>5.0</td>\n",
       "      <td>0</td>\n",
       "      <td>2</td>\n",
       "    </tr>\n",
       "    <tr>\n",
       "      <th>3</th>\n",
       "      <td>1</td>\n",
       "      <td>665</td>\n",
       "      <td>5.0</td>\n",
       "      <td>0</td>\n",
       "      <td>3</td>\n",
       "    </tr>\n",
       "    <tr>\n",
       "      <th>4</th>\n",
       "      <td>1</td>\n",
       "      <td>899</td>\n",
       "      <td>3.5</td>\n",
       "      <td>0</td>\n",
       "      <td>4</td>\n",
       "    </tr>\n",
       "  </tbody>\n",
       "</table>\n",
       "</div>"
      ],
      "text/plain": [
       "   userId  movieId  rating  new_userId  new_movieId\n",
       "0       1      296     5.0           0            0\n",
       "1       1      306     3.5           0            1\n",
       "2       1      307     5.0           0            2\n",
       "3       1      665     5.0           0            3\n",
       "4       1      899     3.5           0            4"
      ]
     },
     "execution_count": 46,
     "metadata": {},
     "output_type": "execute_result"
    }
   ],
   "source": [
    "ratings.head()"
   ]
  },
  {
   "cell_type": "code",
   "execution_count": 47,
   "id": "11812437",
   "metadata": {},
   "outputs": [],
   "source": [
    "# Remove old userId and movieId\n",
    "\n",
    "ratings = ratings.drop(['userId','movieId'], axis=1)"
   ]
  },
  {
   "cell_type": "code",
   "execution_count": 48,
   "id": "767fc435",
   "metadata": {},
   "outputs": [],
   "source": [
    "# Shuffle the Dataframe\n",
    "\n",
    "ratings= shuffle(ratings, random_state=42)"
   ]
  },
  {
   "cell_type": "code",
   "execution_count": 61,
   "id": "60923bf6",
   "metadata": {},
   "outputs": [
    {
     "data": {
      "text/html": [
       "<div>\n",
       "<style scoped>\n",
       "    .dataframe tbody tr th:only-of-type {\n",
       "        vertical-align: middle;\n",
       "    }\n",
       "\n",
       "    .dataframe tbody tr th {\n",
       "        vertical-align: top;\n",
       "    }\n",
       "\n",
       "    .dataframe thead th {\n",
       "        text-align: right;\n",
       "    }\n",
       "</style>\n",
       "<table border=\"1\" class=\"dataframe\">\n",
       "  <thead>\n",
       "    <tr style=\"text-align: right;\">\n",
       "      <th></th>\n",
       "      <th>rating</th>\n",
       "      <th>new_userId</th>\n",
       "      <th>new_movieId</th>\n",
       "    </tr>\n",
       "  </thead>\n",
       "  <tbody>\n",
       "    <tr>\n",
       "      <th>15347762</th>\n",
       "      <td>3.5</td>\n",
       "      <td>99475</td>\n",
       "      <td>3024</td>\n",
       "    </tr>\n",
       "    <tr>\n",
       "      <th>16647840</th>\n",
       "      <td>4.0</td>\n",
       "      <td>107978</td>\n",
       "      <td>9645</td>\n",
       "    </tr>\n",
       "    <tr>\n",
       "      <th>23915192</th>\n",
       "      <td>3.0</td>\n",
       "      <td>155371</td>\n",
       "      <td>1092</td>\n",
       "    </tr>\n",
       "    <tr>\n",
       "      <th>10052313</th>\n",
       "      <td>4.0</td>\n",
       "      <td>65224</td>\n",
       "      <td>227</td>\n",
       "    </tr>\n",
       "    <tr>\n",
       "      <th>12214125</th>\n",
       "      <td>5.0</td>\n",
       "      <td>79160</td>\n",
       "      <td>964</td>\n",
       "    </tr>\n",
       "  </tbody>\n",
       "</table>\n",
       "</div>"
      ],
      "text/plain": [
       "          rating  new_userId  new_movieId\n",
       "15347762     3.5       99475         3024\n",
       "16647840     4.0      107978         9645\n",
       "23915192     3.0      155371         1092\n",
       "10052313     4.0       65224          227\n",
       "12214125     5.0       79160          964"
      ]
     },
     "execution_count": 61,
     "metadata": {},
     "output_type": "execute_result"
    }
   ],
   "source": [
    "ratings.head()"
   ]
  },
  {
   "cell_type": "code",
   "execution_count": 63,
   "id": "1a0a7191",
   "metadata": {},
   "outputs": [
    {
     "data": {
      "text/plain": [
       "25000095"
      ]
     },
     "execution_count": 63,
     "metadata": {},
     "output_type": "execute_result"
    }
   ],
   "source": [
    "ratings.shape[0]"
   ]
  },
  {
   "cell_type": "markdown",
   "id": "8369dce2",
   "metadata": {},
   "source": [
    "Now we can use the concept of embedding layer to map userId and movieId into feature vectors."
   ]
  },
  {
   "cell_type": "code",
   "execution_count": 49,
   "id": "5e901089",
   "metadata": {},
   "outputs": [],
   "source": [
    "# Convert user, movie, and rating into arrays\n",
    "\n",
    "new_userId = ratings['new_userId'].values\n",
    "new_movieId = ratings['new_movieId'].values\n",
    "rating = ratings['rating'].values"
   ]
  },
  {
   "cell_type": "code",
   "execution_count": 50,
   "id": "698c4327",
   "metadata": {},
   "outputs": [],
   "source": [
    "len_user= len(set(new_userId))\n",
    "len_movie= len(set(new_movieId))\n",
    "embedding_dim = 10"
   ]
  },
  {
   "cell_type": "code",
   "execution_count": 51,
   "id": "009dcf6e",
   "metadata": {},
   "outputs": [],
   "source": [
    "input_user = Input(shape=(1,))              # Shpe is 1 because the user or movie is going to be a number\n",
    "input_movie = Input(shape=(1,))\n",
    "\n",
    "output_user = Embedding(len_user,embedding_dim)(input_user)          #Dimension = len_user x 1 x embedding_dim\n",
    "output_movie = Embedding(len_movie,embedding_dim)(input_movie)"
   ]
  },
  {
   "cell_type": "markdown",
   "id": "4fe9b67c",
   "metadata": {},
   "source": [
    "output_user and out_movie needs to be reshaped for them to become of appropriate shape to be fed as input to the ANN."
   ]
  },
  {
   "cell_type": "code",
   "execution_count": 52,
   "id": "0622d029",
   "metadata": {},
   "outputs": [],
   "source": [
    "# Flatten both the Embeddings\n",
    "output_user = Flatten()(output_user)\n",
    "output_movie = Flatten()(output_movie)"
   ]
  },
  {
   "cell_type": "code",
   "execution_count": 53,
   "id": "af24c83a",
   "metadata": {},
   "outputs": [],
   "source": [
    "# Lets concatenate output_user and output_movie\n",
    "combined_input = Concatenate()([output_user, output_movie])"
   ]
  },
  {
   "cell_type": "code",
   "execution_count": 54,
   "id": "f8169496",
   "metadata": {},
   "outputs": [],
   "source": [
    "combined_output = Dense(1024, activation='relu')(combined_input)\n",
    "combined_output = Dense(1)(combined_output)"
   ]
  },
  {
   "cell_type": "markdown",
   "id": "b916c84b",
   "metadata": {},
   "source": [
    "## Compile the Model"
   ]
  },
  {
   "cell_type": "code",
   "execution_count": 55,
   "id": "91498b0c",
   "metadata": {},
   "outputs": [],
   "source": [
    "model= Model([input_user,input_movie], combined_output)\n",
    "model.compile(loss='mse', \n",
    "             optimizer=SGD(learning_rate=0.08, momentum=0.9))"
   ]
  },
  {
   "cell_type": "markdown",
   "id": "6034f596",
   "metadata": {},
   "source": [
    "### Split the Dataset"
   ]
  },
  {
   "cell_type": "code",
   "execution_count": 64,
   "id": "9aef0c44",
   "metadata": {},
   "outputs": [],
   "source": [
    "# Consider 80% for training and rest for testing\n",
    "\n",
    "train_length = int(0.8 * ratings.shape[0])\n",
    "\n",
    "train_user= new_userId[:train_length]\n",
    "train_movie= new_movieId[:train_length]\n",
    "train_rating= rating[:train_length]\n",
    "\n",
    "test_user= new_userId[train_length:]\n",
    "test_movie= new_movieId[train_length:]\n",
    "test_rating= rating[train_length:]"
   ]
  },
  {
   "cell_type": "markdown",
   "id": "01fcff95",
   "metadata": {},
   "source": [
    "## Train the Model"
   ]
  },
  {
   "cell_type": "code",
   "execution_count": 65,
   "id": "0da24904",
   "metadata": {},
   "outputs": [
    {
     "name": "stdout",
     "output_type": "stream",
     "text": [
      "Epoch 1/15\n",
      "19532/19532 - 594s - loss: 0.6619 - val_loss: 0.6720 - 594s/epoch - 30ms/step\n",
      "Epoch 2/15\n",
      "19532/19532 - 596s - loss: 0.6519 - val_loss: 0.6685 - 596s/epoch - 31ms/step\n",
      "Epoch 3/15\n",
      "19532/19532 - 539s - loss: 0.6378 - val_loss: 0.6515 - 539s/epoch - 28ms/step\n",
      "Epoch 4/15\n",
      "19532/19532 - 526s - loss: 0.6200 - val_loss: 0.6429 - 526s/epoch - 27ms/step\n",
      "Epoch 5/15\n",
      "19532/19532 - 572s - loss: 0.6061 - val_loss: 0.6365 - 572s/epoch - 29ms/step\n",
      "Epoch 6/15\n",
      "19532/19532 - 517s - loss: 0.5952 - val_loss: 0.6354 - 517s/epoch - 26ms/step\n",
      "Epoch 7/15\n",
      "19532/19532 - 527s - loss: 0.5857 - val_loss: 0.6323 - 527s/epoch - 27ms/step\n",
      "Epoch 8/15\n",
      "19532/19532 - 508s - loss: 0.5772 - val_loss: 0.6269 - 508s/epoch - 26ms/step\n",
      "Epoch 9/15\n",
      "19532/19532 - 518s - loss: 0.5693 - val_loss: 0.6231 - 518s/epoch - 27ms/step\n",
      "Epoch 10/15\n",
      "19532/19532 - 521s - loss: 0.5627 - val_loss: 0.6205 - 521s/epoch - 27ms/step\n",
      "Epoch 11/15\n",
      "19532/19532 - 523s - loss: 0.5572 - val_loss: 0.6197 - 523s/epoch - 27ms/step\n",
      "Epoch 12/15\n",
      "19532/19532 - 615s - loss: 0.5527 - val_loss: 0.6186 - 615s/epoch - 31ms/step\n",
      "Epoch 13/15\n",
      "19532/19532 - 609s - loss: 0.5488 - val_loss: 0.6183 - 609s/epoch - 31ms/step\n",
      "Epoch 14/15\n",
      "19532/19532 - 543s - loss: 0.5456 - val_loss: 0.6158 - 543s/epoch - 28ms/step\n",
      "Epoch 15/15\n",
      "19532/19532 - 537s - loss: 0.5427 - val_loss: 0.6170 - 537s/epoch - 28ms/step\n"
     ]
    }
   ],
   "source": [
    "r = model.fit(x=[train_user,train_movie],\n",
    "             y= train_rating,\n",
    "             batch_size=1024,\n",
    "             epochs=15,\n",
    "             verbose=2,\n",
    "             validation_data= ([test_user,test_movie],test_rating))"
   ]
  },
  {
   "cell_type": "code",
   "execution_count": null,
   "id": "fde2f360",
   "metadata": {},
   "outputs": [],
   "source": []
  }
 ],
 "metadata": {
  "kernelspec": {
   "display_name": "Python 3 (ipykernel)",
   "language": "python",
   "name": "python3"
  },
  "language_info": {
   "codemirror_mode": {
    "name": "ipython",
    "version": 3
   },
   "file_extension": ".py",
   "mimetype": "text/x-python",
   "name": "python",
   "nbconvert_exporter": "python",
   "pygments_lexer": "ipython3",
   "version": "3.10.9"
  }
 },
 "nbformat": 4,
 "nbformat_minor": 5
}
